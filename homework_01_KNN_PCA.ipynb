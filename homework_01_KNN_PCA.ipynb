{
  "nbformat": 4,
  "nbformat_minor": 0,
  "metadata": {
    "colab": {
      "provenance": []
    },
    "kernelspec": {
      "name": "python3",
      "display_name": "Python 3"
    },
    "language_info": {
      "name": "python"
    }
  },
  "cells": [
    {
      "cell_type": "code",
      "source": [],
      "metadata": {
        "id": "3Oo98d-rF83G"
      },
      "execution_count": 14,
      "outputs": []
    },
    {
      "cell_type": "code",
      "execution_count": 15,
      "metadata": {
        "colab": {
          "base_uri": "https://localhost:8080/"
        },
        "id": "WBX_Y5AKE7-3",
        "outputId": "d7512586-3304-4144-e3cc-eaef32cc0c08"
      },
      "outputs": [
        {
          "output_type": "stream",
          "name": "stdout",
          "text": [
            "Extracting MNIST-data/train-images-idx3-ubyte.gz\n",
            "Extracting MNIST-data/train-labels-idx1-ubyte.gz\n",
            "Extracting MNIST-data/t10k-images-idx3-ubyte.gz\n",
            "Extracting MNIST-data/t10k-labels-idx1-ubyte.gz\n"
          ]
        }
      ],
      "source": [
        "import matplotlib.pyplot as plt\n",
        "from mnist import load_mnist\n",
        "from sklearn.model_selection import train_test_split\n",
        "from sklearn.metrics import accuracy_score\n",
        "import numpy as np\n",
        "train, test, validation = load_mnist()\n",
        "p = 55000\n"
      ]
    },
    {
      "cell_type": "code",
      "source": [
        "for i in range(1, 11):\n",
        "  plt.subplot(2, 5, i)\n",
        "  plt.imshow(test[0][i])\n",
        "  plt.title(test[1][i])"
      ],
      "metadata": {
        "colab": {
          "base_uri": "https://localhost:8080/",
          "height": 370
        },
        "id": "NI6Gh2JrQotW",
        "outputId": "0e3ef980-7c9a-48e9-ea8c-e110c4defe47"
      },
      "execution_count": 16,
      "outputs": [
        {
          "output_type": "display_data",
          "data": {
            "text/plain": [
              "<Figure size 640x480 with 10 Axes>"
            ],
            "image/png": "[encoded data removed]"
          },
          "metadata": {}
        }
      ]
    },
    {
      "cell_type": "code",
      "source": [
        "class my_PCA():\n",
        "    def __init__(self, n_components=None):\n",
        "        self.n=n_components\n",
        "\n",
        "    def fit(self, X):\n",
        "        #X_ = np.tile(np.mean(X, axis=0)[0], (55000, 1))\n",
        "        #X_c = X - X_\n",
        "        self.mean = np.mean(X, axis=0)\n",
        "        X_c = X - self.mean\n",
        "        C = X_c.T @ X\n",
        "        values, vectors = np.linalg.eig(C)\n",
        "        return values, vectors\n",
        "\n",
        "    def transform(self, X):\n",
        "        #X_ = np.tile(np.mean(X, axis=0), (55000, 1))\n",
        "        #X_c = X - X_\n",
        "        self.mean = np.mean(X, axis=0)\n",
        "        X_c = X - self.mean\n",
        "        values, vectors = self.fit(X)\n",
        "        Y = np.array([X_c @ i for i in list(vectors)])\n",
        "        return Y\n",
        "\n",
        "\n",
        "class my_kNN():\n",
        "    def __init__(self, n_neighbors=5, dot=None, answers=None):\n",
        "      self.ne = n_neighbors\n",
        "      self.dot = dot\n",
        "      self.answers = answers\n",
        "\n",
        "    def fit(self, X, y):\n",
        "      self.dot = np.reshape(X, (-1, 784)).astype(np.float32)\n",
        "      self.answers = y\n",
        "\n",
        "    def predict(self, X):\n",
        "      r = []\n",
        "      for x in X:\n",
        "        x = np.reshape(x, (-1, 784)).astype(np.float32)\n",
        "        distances = np.sqrt(np.sum((self.dot - x) ** 2, axis=1))\n",
        "        neigh = np.argpartition(distances, self.ne)[:self.ne]\n",
        "        types = self.answers[neigh]\n",
        "        r.append(np.bincount(types).argmax())\n",
        "      return r"
      ],
      "metadata": {
        "id": "tCIKZG_ospKW"
      },
      "execution_count": 17,
      "outputs": []
    },
    {
      "cell_type": "code",
      "source": [],
      "metadata": {
        "id": "ozY_tojPQ6bu"
      },
      "execution_count": 17,
      "outputs": []
    },
    {
      "cell_type": "code",
      "source": [
        "from sklearn.metrics import accuracy_score\n",
        "X, Y = train[0], train[1]\n",
        "kNN = my_kNN(10)\n",
        "kNN.fit(X, Y)\n",
        "\n",
        "x_test, y_test = test\n",
        "y_res = kNN.predict(x_test)\n",
        "\n",
        "acc = accuracy_score(y_test, y_res)\n",
        "acc"
      ],
      "metadata": {
        "colab": {
          "base_uri": "https://localhost:8080/"
        },
        "id": "0yXCArEnxsbK",
        "outputId": "ffe07d83-7dfe-409c-da9b-9a299191a1af"
      },
      "execution_count": 18,
      "outputs": [
        {
          "output_type": "execute_result",
          "data": {
            "text/plain": [
              "0.9692"
            ]
          },
          "metadata": {},
          "execution_count": 18
        }
      ]
    }
  ]
}